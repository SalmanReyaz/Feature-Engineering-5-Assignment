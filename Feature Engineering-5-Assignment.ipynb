{
 "cells": [
  {
   "cell_type": "markdown",
   "id": "0f959799",
   "metadata": {},
   "source": [
    "# Q1. What is the difference between Ordinal Encoding and Label Encoding? Provide an example of when you might choose one over the other."
   ]
  },
  {
   "cell_type": "raw",
   "id": "91aa7389",
   "metadata": {},
   "source": [
    "1. Ordinal Encoding:\n",
    "\n",
    "         Ordinal encoding is used when the categorical variable has an inherent order or hierarchy among its categories, and this order is meaningful for the analysis or prediction task.\n",
    "\n",
    "\n",
    "Example: Consider an \"Education Level\" variable with categories \"High School,\" \"Associate's Degree,\" \"Bachelor's Degree,\" \"Master's Degree,\" and \"Ph.D.\" You could encode these categories as 1, 2, 3, 4, and 5, respectively, to capture the ordinal relationship.\n",
    "\n",
    "Advantages: Ordinal encoding explicitly preserves the ordinal relationships, making it suitable for variables with clear order. It can be used in cases where the order of the categories matters in the analysis.\n",
    "\n",
    "\n",
    "\n",
    "\n",
    "\n",
    "2. Label Encoding:\n",
    "\n",
    "              Label encoding is used when the categorical variable represents nominal data, meaning there is no inherent order or ranking among the categories. It is used when the categories are distinct but not ordered.\n",
    "\n",
    "\n",
    "Example: For a nominal categorical variable like \"Color\" with categories \"Red,\" \"Green,\" and \"Blue,\" you might assign labels 1, 2, and 3, respectively.\n",
    "\n",
    "Advantages: Label encoding is simple and efficient for nominal data. It can reduce dimensionality when there are many categories, as it uses a single column with integer labels.\n",
    "\n",
    "\n",
    "\n",
    "\n",
    "\n",
    "\n",
    "When to Choose One Over the Other:\n",
    "\n",
    "The choice between ordinal encoding and label encoding depends on the nature of the categorical variable:\n",
    "\n",
    "Ordinal Encoding: Choose ordinal encoding when the categorical variable has a meaningful order, and you want to capture that order in the analysis or modeling. It is suitable for ordinal data where the sequence of categories matters.\n",
    "\n",
    "Example: Use ordinal encoding for \"Education Level,\" \"Economic Status\" (e.g., \"Low Income,\" \"Middle Income,\" \"High Income\"), or \"Satisfaction Level\" (e.g., \"Low Satisfaction,\" \"Moderate Satisfaction,\" \"High Satisfaction\").\n",
    "\n",
    "Label Encoding: Choose label encoding when the categorical variable represents nominal data, and there is no meaningful order among the categories. It is a straightforward way to convert nominal data into numerical format for machine learning algorithms.\n",
    "\n",
    "Example: Use label encoding for \"Gender\" (e.g., \"Male,\" \"Female\"), \"Country\" (e.g., \"USA,\" \"Canada,\" \"UK\"), or \"Product Type\" (e.g., \"Product A,\" \"Product B,\" \"Product C\")."
   ]
  },
  {
   "cell_type": "code",
   "execution_count": null,
   "id": "a85f365a",
   "metadata": {},
   "outputs": [],
   "source": []
  },
  {
   "cell_type": "markdown",
   "id": "67b16e07",
   "metadata": {},
   "source": [
    "# Q2. Explain how Target Guided Ordinal Encoding works and provide an example of when you might use it in a machine learning project."
   ]
  },
  {
   "cell_type": "raw",
   "id": "74354cef",
   "metadata": {},
   "source": [
    "Target Guided Ordinal Encoding is a method used to convert categorical data into numerical format while taking into account the relationship between the categorical variable and the target variable in a supervised machine learning problem. This technique is particularly useful when dealing with ordinal categorical variables, where there is an inherent order or hierarchy among the categories, and you want to capture this order in a way that is guided by the target variable.\n",
    "\n",
    "\n",
    "\n",
    "- Ranking Categories by Target Variable: First, you rank the categories of the ordinal variable based on the relationship with the target variable. You can calculate statistics such as the mean, median, or other metrics of the target variable for each category. This ranking reflects how strongly each category is associated with the target variable\n",
    "\n",
    "\n",
    "\n",
    "\n",
    "- Assigning Numerical Values: Once the categories are ranked, you assign numerical values to the categories based on their ranking. Categories that are more strongly associated with the positive outcome of the target variable are assigned higher values, while those associated with the negative outcome receive lower values.\n",
    "\n",
    "- Replacing Categorical Values: Replace the original categorical values in the dataset with the corresponding numerical values obtained from the ranking. This transforms the ordinal variable into a numerical one, preserving the ordinal relationship.\n",
    "\n",
    "\n",
    "\n",
    "\n",
    "\n",
    "\n",
    "\n",
    "\n",
    "Example of When to Use Target Guided Ordinal Encoding:\n",
    "\n",
    "Let's consider a real-world example where you might use Target Guided Ordinal Encoding in a machine learning project:\n",
    "\n",
    "Scenario: Loan Approval Prediction\n",
    "\n",
    "Suppose you are working on a loan approval prediction project for a bank. One of the features in your dataset is \"Credit Score Range,\" which represents the range of credit scores of loan applicants. This feature is ordinal in nature, as it has categories like \"Poor,\" \"Fair,\" \"Good,\" \"Very Good,\" and \"Excellent,\" reflecting the creditworthiness of applicants.\n",
    "\n",
    "\"Poor\" corresponds to applicants with low credit scores.\n",
    "\"Excellent\" corresponds to applicants with high credit scores.\n",
    "In this scenario, you want to capture the ordinal relationship between \"Credit Score Range\" and the likelihood of loan approval (the target variable).\n",
    "\n",
    "Steps for Target Guided Ordinal Encoding:\n",
    "\n",
    "Calculate the mean or median approval rate for each \"Credit Score Range\" category. You might find that \"Excellent\" applicants have the highest approval rate, while \"Poor\" applicants have the lowest.\n",
    "\n",
    "Rank the categories based on their approval rates. For example:\n",
    "\n",
    "\"Excellent\" (Rank 5, highest approval rate)\n",
    "\"Very Good\" (Rank 4)\n",
    "\"Good\" (Rank 3)\n",
    "\"Fair\" (Rank 2)\n",
    "\"Poor\" (Rank 1, lowest approval rate)\n",
    "Replace the original \"Credit Score Range\" categories with their corresponding ranks:\n",
    "\n",
    "\n",
    "Original Category\tTarget Guided Ordinal Encoding\n",
    "Poor\t                 1\n",
    "Fair\t                 2\n",
    "Good\t                 3\n",
    "Very Good\t             4\n",
    "Excellent              \t 5\n",
    "\n",
    "\n",
    "Now, you have transformed the ordinal \"Credit Score Range\" variable into numerical values that reflect the ordinal relationship between credit scores and loan approval rates, making it suitable for machine learning models. This encoding method helps the model capture the impact of creditworthiness on loan approval more effectively."
   ]
  },
  {
   "cell_type": "raw",
   "id": "f819bb01",
   "metadata": {},
   "source": []
  },
  {
   "cell_type": "markdown",
   "id": "2bfe83bc",
   "metadata": {},
   "source": [
    "# Q3. Define covariance and explain why it is important in statistical analysis. How is covariance calculated?\n"
   ]
  },
  {
   "cell_type": "markdown",
   "id": "2049d89c",
   "metadata": {},
   "source": [
    "# Covariance is a statistical tool used to determine the relationship between the movements of two random variables.\n",
    "\n",
    "\n",
    "\n",
    "`In other words, it measures the joint variability of two variables. Specifically, covariance indicates whether an increase (or decrease) in one variable is associated with an increase (or decrease) in another variable. It helps in understanding the relationship and direction of change between two variables.`\n",
    "\n",
    "\n",
    "\n",
    "## Covariance is important in statistical analysis for several reasons:\n",
    "\n",
    "\n",
    "\n",
    "`Risk and Diversification: In finance, covariance is used to assess the relationship between the returns of two assets. Investors use it to determine how the returns of different assets move together. Low or negative covariance between assets can help in diversifying a portfolio to reduce risk.`\n",
    "\n",
    "`Linear Regression: Covariance plays a role in linear regression analysis. It is used to calculate the coefficients in a linear regression model, which predicts the value of one variable based on the values of other variables.`\n",
    "\n",
    "\n",
    "\n",
    "`Multivariate Analysis: Covariance is a fundamental concept in multivariate statistical analysis, including principal component analysis (PCA) and factor analysis, which involve understanding relationships among multiple variables.`\n",
    "\n",
    "\n",
    "\n",
    "\n",
    "Types of covariance:\n",
    "There are two types of covariance depending upon the movement of the two variables. The two types of covariance are: \n",
    "\n",
    "Positive Covariance: \n",
    "The covariance is said to be positive when both the variables move in the same direction. When both the variables increase or when both the variables decrease, it is called positive covariance.\n",
    "\n",
    "Negative Covariance: \n",
    "The covariance is said to be negative when both the variables move in opposite directions i.e. when both the variables are inversely related. In negative covariance, if X variable increases, Y variable decreases, and vice versa.  \n",
    "\n",
    "\n",
    "\n",
    "\n",
    "\n",
    "\n",
    "\n",
    "\n",
    "\n",
    "\n",
    "\n",
    "\n",
    "\n",
    "## Calculation of Covariance:\n",
    "\n",
    "### `The formula to calculate the covariance between two random variables X and Y, denoted as Cov(X, Y), is as follows:` \n",
    "\n",
    "\n",
    "### cov(x,y) = ∑(xi−¯x¯)(yi−¯y¯)n−1\n",
    "\n",
    "\n",
    "Calculate the coefficient of covariance for the following data:\n",
    "\n",
    "X = 2,3,2.7,3.2,4.1\n",
    "\n",
    "Y = 10,14,12,15,20\n",
    "\n",
    "\n",
    "\n",
    "Number of observations = 5\n",
    "\n",
    "Mean of X = 3\n",
    "\n",
    "Mean of Y = 14.2\n",
    "\n",
    "Cov(X,Y) = (2−3)(10−14.2)+(3−3)(14−14.2)+(2.7−3)(12−14.2)+(3.2−3)(15−14.2)+(4.1−3)(20−14.2)/(5-1)\n",
    "\n",
    "\n",
    "\n",
    "= 2.85\n",
    "\n",
    "\n",
    "\n",
    "\n",
    "\n",
    "## covariance we obtained from the above example is positive. This is the mathematical expression...."
   ]
  },
  {
   "cell_type": "code",
   "execution_count": null,
   "id": "7d708c93",
   "metadata": {},
   "outputs": [],
   "source": []
  },
  {
   "cell_type": "markdown",
   "id": "1b9c0522",
   "metadata": {},
   "source": [
    "# Q4. For a dataset with the following categorical variables: Color (red, green, blue), Size (small, medium, large), and Material (wood, metal, plastic), perform label encoding using Python's scikit-learn library. Show your code and explain the output."
   ]
  },
  {
   "cell_type": "code",
   "execution_count": 19,
   "id": "051ea4cd",
   "metadata": {},
   "outputs": [],
   "source": [
    "import pandas as pd\n",
    "from sklearn.preprocessing import LabelEncoder"
   ]
  },
  {
   "cell_type": "code",
   "execution_count": 53,
   "id": "c1af9750",
   "metadata": {},
   "outputs": [
    {
     "name": "stdout",
     "output_type": "stream",
     "text": [
      "   Color    Size Material\n",
      "0    red   small     wood\n",
      "1  green  medium    metal\n",
      "2   blue   large  plastic\n",
      "3  green  medium  plastic\n",
      "4    red   small    metal\n"
     ]
    }
   ],
   "source": [
    "from sklearn.preprocessing import LabelEncoder\n",
    "import pandas as pd\n",
    "\n",
    "# Create a sample dataset with categorical variables\n",
    "data = {\n",
    "    'Color': ['red', 'green', 'blue', 'green', 'red'],\n",
    "    'Size': ['small', 'medium', 'large', 'medium', 'small'],\n",
    "    'Material': ['wood', 'metal', 'plastic', 'plastic', 'metal']\n",
    "}\n",
    "\n",
    "# Create a DataFrame from the dataset\n",
    "df = pd.DataFrame(data)\n",
    "\n",
    "print(df)"
   ]
  },
  {
   "cell_type": "code",
   "execution_count": 57,
   "id": "f6190246",
   "metadata": {},
   "outputs": [
    {
     "name": "stdout",
     "output_type": "stream",
     "text": [
      "   Color  Size  Material\n",
      "0      2     2         2\n",
      "1      1     1         0\n",
      "2      0     0         1\n",
      "3      1     1         1\n",
      "4      2     2         0\n"
     ]
    }
   ],
   "source": [
    "# Create a LabelEncoder for each categorical variable\n",
    "label_encoders = {}\n",
    "for column in df.columns:\n",
    "    le = LabelEncoder()\n",
    "    df[column] = le.fit_transform(df[column])\n",
    "    label_encoders[column] = le\n",
    "\n",
    "# Display the encoded DataFrame\n",
    "print(df)\n",
    "\n",
    "\n",
    "# In the encoded dataset:\n",
    "\n",
    "# 'Color' has been encoded as 0 for 'blue,' 1 for 'green,' and 2 for 'red.'\n",
    "# 'Size' has been encoded as 0 for 'large,' 1 for 'medium,' and 2 for 'small.'\n",
    "# 'Material' has been encoded as 0 for 'metal,' 1 for 'plastic,' and 2 for 'wood.'"
   ]
  },
  {
   "cell_type": "code",
   "execution_count": null,
   "id": "6dd44ddf",
   "metadata": {},
   "outputs": [],
   "source": []
  },
  {
   "cell_type": "markdown",
   "id": "46eca28d",
   "metadata": {},
   "source": [
    "# Q5. Calculate the covariance matrix for the following variables in a dataset: Age, Income, and Education level. Interpret the results."
   ]
  },
  {
   "cell_type": "code",
   "execution_count": 66,
   "id": "5a94c2bb",
   "metadata": {},
   "outputs": [],
   "source": [
    "import pandas as pd\n",
    "\n",
    "data = {\n",
    "    'Age': [30, 35, 25, 40, 28],\n",
    "    'Income': [50000, 60000, 45000, 70000, 55000],\n",
    "    'EducationLevel': [12, 16, 10, 18, 14]\n",
    "}\n",
    "\n",
    "df = pd.DataFrame(data)\n"
   ]
  },
  {
   "cell_type": "code",
   "execution_count": 67,
   "id": "b4a56d4b",
   "metadata": {},
   "outputs": [
    {
     "data": {
      "text/html": [
       "<div>\n",
       "<style scoped>\n",
       "    .dataframe tbody tr th:only-of-type {\n",
       "        vertical-align: middle;\n",
       "    }\n",
       "\n",
       "    .dataframe tbody tr th {\n",
       "        vertical-align: top;\n",
       "    }\n",
       "\n",
       "    .dataframe thead th {\n",
       "        text-align: right;\n",
       "    }\n",
       "</style>\n",
       "<table border=\"1\" class=\"dataframe\">\n",
       "  <thead>\n",
       "    <tr style=\"text-align: right;\">\n",
       "      <th></th>\n",
       "      <th>Age</th>\n",
       "      <th>Income</th>\n",
       "      <th>EducationLevel</th>\n",
       "    </tr>\n",
       "  </thead>\n",
       "  <tbody>\n",
       "    <tr>\n",
       "      <th>0</th>\n",
       "      <td>30</td>\n",
       "      <td>50000</td>\n",
       "      <td>12</td>\n",
       "    </tr>\n",
       "    <tr>\n",
       "      <th>1</th>\n",
       "      <td>35</td>\n",
       "      <td>60000</td>\n",
       "      <td>16</td>\n",
       "    </tr>\n",
       "    <tr>\n",
       "      <th>2</th>\n",
       "      <td>25</td>\n",
       "      <td>45000</td>\n",
       "      <td>10</td>\n",
       "    </tr>\n",
       "    <tr>\n",
       "      <th>3</th>\n",
       "      <td>40</td>\n",
       "      <td>70000</td>\n",
       "      <td>18</td>\n",
       "    </tr>\n",
       "    <tr>\n",
       "      <th>4</th>\n",
       "      <td>28</td>\n",
       "      <td>55000</td>\n",
       "      <td>14</td>\n",
       "    </tr>\n",
       "  </tbody>\n",
       "</table>\n",
       "</div>"
      ],
      "text/plain": [
       "   Age  Income  EducationLevel\n",
       "0   30   50000              12\n",
       "1   35   60000              16\n",
       "2   25   45000              10\n",
       "3   40   70000              18\n",
       "4   28   55000              14"
      ]
     },
     "execution_count": 67,
     "metadata": {},
     "output_type": "execute_result"
    }
   ],
   "source": [
    "df"
   ]
  },
  {
   "cell_type": "code",
   "execution_count": 68,
   "id": "4a510271",
   "metadata": {},
   "outputs": [
    {
     "name": "stdout",
     "output_type": "stream",
     "text": [
      "                    Age      Income  EducationLevel\n",
      "Age                35.3     54250.0            17.5\n",
      "Income          54250.0  92500000.0         30000.0\n",
      "EducationLevel     17.5     30000.0            10.0\n"
     ]
    }
   ],
   "source": [
    "# calculate the covariance matrix\n",
    "\n",
    "\n",
    "covariance_matrix = df.cov()\n",
    "\n",
    "# Print the covariance matrix\n",
    "print(covariance_matrix)\n"
   ]
  },
  {
   "cell_type": "raw",
   "id": "be5e366c",
   "metadata": {},
   "source": [
    "Covariance between Age and Income: This positive covariance suggests that there is a positive relationship between Age and Income. In other words, as Age increases, Income tends to increase.\n",
    "\n",
    "Covariance between Age and Education Level: This positive covariance suggests a slight positive relationship between Age and Education Level. As Age increases, Education Level tends to be slightly higher...\n",
    "\n",
    "Covariance between Income and Education Level: This positive covariance suggests a positive relationship between Income and Education Level. As Income increases, Education Level tends to be higher. However, similar to the other covariances, the value alone doesn't indicate the strength of the relationship."
   ]
  },
  {
   "cell_type": "code",
   "execution_count": null,
   "id": "7171e30e",
   "metadata": {},
   "outputs": [],
   "source": []
  },
  {
   "cell_type": "markdown",
   "id": "a80ff330",
   "metadata": {},
   "source": [
    "# Q6. You are working on a machine learning project with a dataset containing several categorical variables, including \"Gender\" (Male/Female), \"Education Level\" (High School/Bachelor's/Master's/PhD), and \"Employment Status\" (Unemployed/Part-Time/Full-Time). Which encoding method would you use for each variable, and why?"
   ]
  },
  {
   "cell_type": "raw",
   "id": "3ea795b2",
   "metadata": {},
   "source": [
    "Gender (Binary Categorical Variable: Male/Female):\n",
    "\n",
    "For binary categorical variables like \"Gender,\" we can use binary encoding or one-hot encoding:\n",
    "\n",
    "Binary Encoding: Assign 0 to one category (e.g., Male) and 1 to the other category (e.g., Female). This approach is efficient and can save memory when you have many binary features.\n",
    "\n",
    "Example:\n",
    "\n",
    "Male: 0\n",
    "Female: 1\n",
    "\n",
    "\n",
    "One-Hot Encoding: Create two binary columns, one for each category. This approach is more widely used and is suitable when there are only two categories.\n",
    "\n",
    "Example:\n",
    "\n",
    "Male: 1\n",
    "Female: 0\n",
    "\n",
    "\n",
    "The choice between binary encoding and one-hot encoding often depends on the specific machine learning algorithm you plan to use. Some algorithms may perform better with one encoding method over the other.\n",
    "\n",
    "\n",
    "\n",
    "\n",
    "\n",
    "Education Level (Nominal Categorical Variable: High School/Bachelor's/Master's/PhD):\n",
    "\n",
    "For nominal categorical variables like \"Education Level,\" where there is no inherent order or ranking among categories, one-hot encoding is typically the preferred method. Each category gets its binary column, and this allows the algorithm to treat each category as distinct without assuming any ordinal relationship between them.\n",
    "\n",
    "Example (One-Hot Encoding):\n",
    "\n",
    "High School: 1 0 0 0\n",
    "Bachelor's: 0 1 0 0\n",
    "Master's: 0 0 1 0\n",
    "PhD: 0 0 0 1\n",
    "\n",
    "\n",
    "\n",
    "Employment Status (Ordinal Categorical Variable: Unemployed/Part-Time/Full-Time):\n",
    "\n",
    "For ordinal categorical variables like \"Employment Status,\" where there is an inherent order or ranking among categories, you can use label encoding. Label encoding assigns integer values to categories based on their order. In this case, the order might be Unemployed < Part-Time < Full-Time.\n",
    "\n",
    "Example (Label Encoding):\n",
    "\n",
    "Unemployed: 0\n",
    "Part-Time: 1\n",
    "Full-Time: 2\n",
    "\n",
    "\n",
    "Label encoding makes sense here because it captures the ordinal relationship between the categories. However, you should ensure that the ordinal relationships are meaningful and consistent within your dataset."
   ]
  },
  {
   "cell_type": "code",
   "execution_count": null,
   "id": "adb46fc2",
   "metadata": {},
   "outputs": [],
   "source": []
  },
  {
   "cell_type": "markdown",
   "id": "19f6b96f",
   "metadata": {},
   "source": [
    "# Q7. You are analyzing a dataset with two continuous variables, \"Temperature\" and \"Humidity\", and two categorical variables, \"Weather Condition\" (Sunny/Cloudy/Rainy) and \"Wind Direction\" (North/South/ East/West). Calculate the covariance between each pair of variables and interpret the results."
   ]
  },
  {
   "cell_type": "raw",
   "id": "18c8593d",
   "metadata": {},
   "source": [
    "To calculate the covariances between pairs of variables in your dataset, including both continuous and categorical variables, we need to consider a few points:\n",
    "\n",
    "Covariance is typically calculated between two continuous variables. Therefore, we can calculate the covariance between \"Temperature\" and \"Humidity.\"\n",
    "\n",
    "Covariance is not directly applicable to categorical variables like \"Weather Condition\" and \"Wind Direction.\" Covariance measures the linear relationship between two continuous variables. However, you can explore other statistical methods to assess the relationship between categorical variables, such as chi-squared tests or contingency tables for independence testing."
   ]
  },
  {
   "cell_type": "code",
   "execution_count": 71,
   "id": "3acf9398",
   "metadata": {},
   "outputs": [
    {
     "name": "stdout",
     "output_type": "stream",
     "text": [
      "   Temperature  Humidity Weather Condition Wind Direction\n",
      "0           72        50             Sunny          North\n",
      "1           68        60            Cloudy          South\n",
      "2           75        65             Rainy           East\n",
      "3           80        75            Cloudy           West\n",
      "4           82        70             Rainy          North\n"
     ]
    }
   ],
   "source": [
    "import pandas as pd\n",
    "\n",
    "# Create a sample dataset\n",
    "data = {\n",
    "    'Temperature': [72, 68, 75, 80, 82],\n",
    "    'Humidity': [50, 60, 65, 75, 70],\n",
    "    'Weather Condition': ['Sunny', 'Cloudy', 'Rainy', 'Cloudy', 'Rainy'],\n",
    "    'Wind Direction': ['North', 'South', 'East', 'West', 'North']\n",
    "}\n",
    "\n",
    "df = pd.DataFrame(data)\n",
    "\n",
    "print(df)"
   ]
  },
  {
   "cell_type": "code",
   "execution_count": 84,
   "id": "c5afd854",
   "metadata": {},
   "outputs": [
    {
     "name": "stdout",
     "output_type": "stream",
     "text": [
      "Covariance between Temperature and Humidity: 41.75\n"
     ]
    }
   ],
   "source": [
    "# Calculate the covariance between Temperature and Humidity\n",
    "covariance =df['Temperature'].cov(df['Humidity'])\n",
    "print(f'Covariance between Temperature and Humidity: {covariance}')"
   ]
  },
  {
   "cell_type": "raw",
   "id": "29d58f3f",
   "metadata": {},
   "source": [
    "Now, regarding the categorical variables \"Weather Condition\" and \"Wind Direction,\" as mentioned earlier, covariance is not appropriate for these variables. Instead, you can use other statistical tests like chi-squared tests or contingency tables to assess the relationships between categorical variables. These tests will help you determine whether there is a significant association or independence between the categorical variables.\n",
    "\n",
    "To summarize:\n",
    "\n",
    "Covariance is suitable for continuous-continuous relationships (e.g., \"Temperature\" vs. \"Humidity\").\n",
    "For categorical-categorical relationships (e.g., \"Weather Condition\" vs. \"Wind Direction\"), you should use appropriate statistical tests for categorical data analysis, such as chi-squared tests or contingency tables, to assess the relationships and measure association or independence."
   ]
  },
  {
   "cell_type": "code",
   "execution_count": null,
   "id": "a2937c3f",
   "metadata": {},
   "outputs": [],
   "source": []
  },
  {
   "cell_type": "code",
   "execution_count": null,
   "id": "bc8f9b71",
   "metadata": {},
   "outputs": [],
   "source": []
  }
 ],
 "metadata": {
  "kernelspec": {
   "display_name": "Python 3 (ipykernel)",
   "language": "python",
   "name": "python3"
  },
  "language_info": {
   "codemirror_mode": {
    "name": "ipython",
    "version": 3
   },
   "file_extension": ".py",
   "mimetype": "text/x-python",
   "name": "python",
   "nbconvert_exporter": "python",
   "pygments_lexer": "ipython3",
   "version": "3.9.12"
  }
 },
 "nbformat": 4,
 "nbformat_minor": 5
}
